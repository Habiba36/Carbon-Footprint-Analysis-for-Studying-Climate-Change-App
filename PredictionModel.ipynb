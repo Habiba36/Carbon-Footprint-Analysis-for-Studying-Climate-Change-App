{
 "cells": [
  {
   "cell_type": "code",
   "execution_count": null,
   "id": "9febccd9",
   "metadata": {},
   "outputs": [
    {
     "name": "stdout",
     "output_type": "stream",
     "text": [
      " * Serving Flask app \"__main__\" (lazy loading)\n",
      " * Environment: production\n",
      "\u001b[31m   WARNING: This is a development server. Do not use it in a production deployment.\u001b[0m\n",
      "\u001b[2m   Use a production WSGI server instead.\u001b[0m\n",
      " * Debug mode: off\n"
     ]
    },
    {
     "name": "stderr",
     "output_type": "stream",
     "text": [
      " * Running on http://192.168.56.1:8000/ (Press CTRL+C to quit)\n",
      "192.168.56.1 - - [06/Jul/2023 04:20:48] \"GET / HTTP/1.1\" 404 -\n",
      "192.168.56.1 - - [06/Jul/2023 04:20:52] \"GET /RandomForestmodel HTTP/1.1\" 200 -\n",
      "C:\\Users\\hp\\anaconda3\\lib\\site-packages\\sklearn\\base.py:439: UserWarning: X does not have valid feature names, but RandomForestRegressor was fitted with feature names\n",
      "  warnings.warn(\n",
      "192.168.56.1 - - [06/Jul/2023 06:42:37] \"POST /RandomForestmodel HTTP/1.1\" 200 -\n",
      "192.168.56.1 - - [06/Jul/2023 06:42:37] \"GET /RandomForestmodel HTTP/1.1\" 200 -\n"
     ]
    },
    {
     "name": "stdout",
     "output_type": "stream",
     "text": [
      "15.064\n"
     ]
    },
    {
     "name": "stderr",
     "output_type": "stream",
     "text": [
      "C:\\Users\\hp\\anaconda3\\lib\\site-packages\\sklearn\\base.py:439: UserWarning: X does not have valid feature names, but RandomForestRegressor was fitted with feature names\n",
      "  warnings.warn(\n",
      "192.168.56.1 - - [06/Jul/2023 06:52:41] \"POST /RandomForestmodel HTTP/1.1\" 200 -\n",
      "192.168.56.1 - - [06/Jul/2023 06:52:41] \"GET /RandomForestmodel HTTP/1.1\" 200 -\n"
     ]
    },
    {
     "name": "stdout",
     "output_type": "stream",
     "text": [
      "14.216000000000003\n"
     ]
    },
    {
     "name": "stderr",
     "output_type": "stream",
     "text": [
      "C:\\Users\\hp\\anaconda3\\lib\\site-packages\\sklearn\\base.py:439: UserWarning: X does not have valid feature names, but RandomForestRegressor was fitted with feature names\n",
      "  warnings.warn(\n",
      "192.168.56.1 - - [06/Jul/2023 07:08:54] \"POST /RandomForestmodel HTTP/1.1\" 200 -\n",
      "192.168.56.1 - - [06/Jul/2023 07:08:54] \"GET /RandomForestmodel HTTP/1.1\" 200 -\n"
     ]
    },
    {
     "name": "stdout",
     "output_type": "stream",
     "text": [
      "11.079000000000006\n"
     ]
    }
   ],
   "source": [
    "from flask import Flask, jsonify, request\n",
    "import json\n",
    "from sklearn.ensemble import RandomForestRegressor\n",
    "import pandas as pd\n",
    "\n",
    "response = ''\n",
    "\n",
    "app = Flask(__name__)\n",
    "\n",
    "@app.route('/RandomForestmodel', methods=['GET','POST'])\n",
    "\n",
    "def predictionModel():    \n",
    "    \n",
    "    global response\n",
    "    \n",
    "    if(request.method == 'POST'):\n",
    "        request_data = request.data\n",
    "        request_data = json.loads(request_data.decode('utf-8'))\n",
    "        car = float(request_data['carType'])\n",
    "        efficieny = float(request_data['carEfficiency'])\n",
    "        distance = float(request_data['car_TraveledDistance'])\n",
    "        short = float(request_data['shortFlightsNumber'])\n",
    "        long = float(request_data['longFlightsNumber'])\n",
    "        meat = float(request_data['redMeatServings'])\n",
    "        chicken = float(request_data['whiteMeatServings'])\n",
    "        dairy= float(request_data['dairyServings'])\n",
    "        space = float(request_data['livingSpaceArea'])\n",
    "        cats = float(request_data['catNumber'])\n",
    "        dogs = float(request_data['dogNumber'])\n",
    "        bus = float(request_data['bus_TraveledDistance'])\n",
    "        metro = float(request_data['metro_TraveledDistance'])\n",
    "        train = float(request_data['rail_TraveledDistance'])\n",
    "        furniture= float(request_data['furnitureAndAppliances_Spendings'])\n",
    "        clothes = float(request_data['clothes_Spendings'])\n",
    "        others = float(request_data['otherStuff_Spendings'])\n",
    "        services = float(request_data['services_Spendings'])\n",
    "        electricity = float(request_data['electricityConsumption'])\n",
    "        gas = float(request_data['naturalGasConsumption'])\n",
    "        \n",
    "        info = [[car,efficieny,distance,short,long,meat,chicken,dairy,space,cats,dogs,bus,metro,train,furniture,clothes,others,services,electricity,gas]]\n",
    "    \n",
    "        # Open Workbook\n",
    "        undata = pd.DataFrame(pd.read_excel(\"C:\\\\Users\\\\hp\\\\Downloads\\\\Numerical dataset.xlsx\", engine=\"openpyxl\"))\n",
    "\n",
    "        #Have Car?\tCar Type\tEfficiency\tTravelled Distance\tShort flights\tLong flights\tRed meat\n",
    "        #Chicken_seafood_eggs\tDairy products\tLiving Space\tHave Pets?\tNumber of Cats\tNumber of Dogs\n",
    "        #Travel by Bus\tTravel by Metro\tTravel by Train\tSpendings on Furniture\tSpendings on Clothes\t\n",
    "        #Spendings on Others\tSpendings on Services\tElectricity\tNatural Gas\tCarbon footprint\n",
    "\n",
    "\n",
    "        X = undata[[\"Car Type\",\t\"Efficiency\",\t\"Travelled Distance\",\t\"Short flights\",\t\"Long flights\",\t\n",
    "                    \"Red meat\", \"Chicken_seafood_eggs\",\t\"Dairy products\",\t\"Living Space\", \"Number of Cats\",\n",
    "                    \"Number of Dogs\", \"Travel by Bus\",\t\"Travel by Metro\",\t\"Travel by Train\",\t\n",
    "                    \"Spendings on Furniture\",\t\"Spendings on Clothes\",\t\"Spendings on Others\",\n",
    "                    \"Spendings on Services\",\t\"Electricity\",\t\"Natural Gas\"]]\n",
    "        y = undata[\"Carbon footprint\"]\n",
    "\n",
    "        rf = RandomForestRegressor(n_estimators= 100, random_state=100)\n",
    "\n",
    "        rf.fit(X, y)\n",
    "  \n",
    "        value = rf.predict(info)\n",
    "        response=list(value)\n",
    "        response=f'{response[0]}'\n",
    "        print(response)\n",
    "        return \" \"\n",
    "    else:\n",
    "        return jsonify({'value': response})\n",
    "\n",
    "if __name__ == \"__main__\":\n",
    "    app.run(debug = False,host='192.168.56.1', port=8000)"
   ]
  },
  {
   "cell_type": "code",
   "execution_count": null,
   "id": "c06e03b2",
   "metadata": {},
   "outputs": [],
   "source": []
  },
  {
   "cell_type": "code",
   "execution_count": null,
   "id": "8e3bd064",
   "metadata": {},
   "outputs": [],
   "source": []
  }
 ],
 "metadata": {
  "kernelspec": {
   "display_name": "Python 3 (ipykernel)",
   "language": "python",
   "name": "python3"
  },
  "language_info": {
   "codemirror_mode": {
    "name": "ipython",
    "version": 3
   },
   "file_extension": ".py",
   "mimetype": "text/x-python",
   "name": "python",
   "nbconvert_exporter": "python",
   "pygments_lexer": "ipython3",
   "version": "3.9.7"
  }
 },
 "nbformat": 4,
 "nbformat_minor": 5
}
